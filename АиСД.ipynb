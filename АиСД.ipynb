{
 "cells": [
  {
   "cell_type": "code",
   "execution_count": 1,
   "id": "43b7e398",
   "metadata": {},
   "outputs": [],
   "source": [
    "#число клеток в ряде доски\n",
    "n = 8\n",
    "\n",
    "# проверка на возможность совершения хода конем на шахматной доске\n",
    "def is_valid_move(board, N, x, y):\n",
    "    return x >= 0 and y >= 0 and x < N and y < N and board[x][y] == -1\n",
    "\n",
    "# отображение истории движений коня на шахматной доске\n",
    "def print_solution(board):\n",
    "    for row in board:\n",
    "        print(\" \".join(str(cell).rjust(2) for cell in row))  "
   ]
  },
  {
   "cell_type": "markdown",
   "id": "60c2c2dd",
   "metadata": {},
   "source": [
    "# Вариант 1. Рекурсия"
   ]
  },
  {
   "cell_type": "code",
   "execution_count": 2,
   "id": "ad2ca4df",
   "metadata": {
    "scrolled": true
   },
   "outputs": [
    {
     "name": "stdout",
     "output_type": "stream",
     "text": [
      " 0 59 38 33 30 17  8 63\n",
      "37 34 31 60  9 62 29 16\n",
      "58  1 36 39 32 27 18  7\n",
      "35 48 41 26 61 10 15 28\n",
      "42 57  2 49 40 23  6 19\n",
      "47 50 45 54 25 20 11 14\n",
      "56 43 52  3 22 13 24  5\n",
      "51 46 55 44 53  4 21 12\n"
     ]
    }
   ],
   "source": [
    "# n --- размер стороны шахматной доски\n",
    "# board --- представление шахматной доски в виде двумерного массива\n",
    "# curr_x и curr_y --- текущие координаты коня на доске\n",
    "# move_x и move_y --- смещения по горизонтали и вертикали для каждого возможного хода коня\n",
    "# counter --- текущая позиция коня на доске\n",
    "def solution(n, board, curr_x, curr_y, move_x, move_y, counter): \n",
    "    if(counter == n**2): # считаем, что посетили все клетки на доске, возвращаем True --- успешное решение задачи\n",
    "        return True\n",
    "    for i in range(8): # рассматриваем 8 возможных ходов коня\n",
    "        new_x = curr_x + move_x[i] # для каждого хода вычисляем новые координаты путём добавления смещений\n",
    "        new_y = curr_y + move_y[i] \n",
    "        if(is_valid_move(board, n, new_x, new_y)): # проверяем, что новые координаты находятся внутри доски и представляют допустимый ход\n",
    "            board[new_x][new_y] = counter \n",
    "            if(solution(n, board, new_x, new_y, move_x, move_y, counter+1)): # рекурсивно вызывается функция solution, увеличивая counter на 1\n",
    "                return True\n",
    "            board[new_x][new_y] = -1 # если рекурсивный вызов не приводит к успеху, происходит backtracking и клетка вовзращается в исходное состояние\n",
    "    return False\n",
    "\n",
    "def knight_tour(n, x, y): \n",
    "    board = [[-1 for i in range(n)]for i in range(n)] # инициализация шахматной доски\n",
    "    # все элементы инициализируются значением -1. это значит, что клетка не была посещена\n",
    "\n",
    "    move_x = [2, 1, -1, -2, -2, -1, 1, 2] # возможные смещения по горизонтали для каждого хода коня\n",
    "    move_y = [1, 2, 2, 1, -1, -2, -2, -1] # возможные смещения по вертикали для каждого хода коня\n",
    "\n",
    "    board[x][y] = 0 # начальная позиция коня на доске\n",
    "\n",
    "    counter = 1 # \"счётчик\" ходов. первый ход сделан --- конь стоит на начальной позиции\n",
    "\n",
    "    if(not solution(n, board, x, y, move_x, move_y, counter)):  # проверка наличия решения с использованием функции solution\n",
    "        print(\"Solution does not exist\") \n",
    "    else: \n",
    "        print_solution(board) \n",
    "x = 0\n",
    "y = 0\n",
    "knight_tour(n, x, y)"
   ]
  },
  {
   "cell_type": "markdown",
   "id": "e13ed339",
   "metadata": {},
   "source": [
    "# Вариант 2. Правило Варнсдорф"
   ]
  },
  {
   "cell_type": "code",
   "execution_count": 3,
   "id": "eea9a9b4",
   "metadata": {},
   "outputs": [
    {
     "name": "stdout",
     "output_type": "stream",
     "text": [
      "18 15 32  1 20  5 38  3\n",
      "31  0 19 16 37  2 21  6\n",
      "14 17 36 33 22 45  4 39\n",
      "35 30 23 44 59 40  7 46\n",
      "24 13 34 55 50 43 60 41\n",
      "29 52 27 58 61 56 47  8\n",
      "12 25 54 51 10 49 42 63\n",
      "53 28 11 26 57 62  9 48\n"
     ]
    }
   ],
   "source": [
    "# n --- размер стороны шахматной доски\n",
    "# x и y --- текущие координаты коня на доске\n",
    "# board --- представление шахматной доски в виде двумерного массива\n",
    "def Warnsdorff_rule(n, x, y, board):\n",
    "    dx = [2, 1, -1, -2, -2, -1, 1, 2] # возможные смещения по горизонтали для каждого хода коня\n",
    "    dy = [1, 2, 2, 1, -1, -2, -2, -1] # возможные смещения по вертикали для каждого хода коня\n",
    "    moves = [] # cписок возможных ходов\n",
    "    for i in range(8):\n",
    "        new_x = x + dx[i]\n",
    "        new_y = y + dy[i]\n",
    "        if is_valid_move(board, n, new_x, new_y):\n",
    "            count = 0\n",
    "            for j in range(8):\n",
    "                next_x = new_x + dx[j]\n",
    "                next_y = new_y + dy[j]\n",
    "                if is_valid_move(board, n, next_x, next_y):\n",
    "                    count += 1\n",
    "            moves.append((count, (new_x, new_y)))\n",
    "    moves.sort()\n",
    "    return [move[1] for move in moves]\n",
    "\n",
    "def knight_tour(n, x, y):\n",
    "    board = [[-1 for _ in range(n)] for _ in range(n)] # инициализация шахматной доски\n",
    "    # все элементы инициализируются значением -1. это значит, что клетка не была посещена\n",
    "    board[x][y] = 0\n",
    "    move_count = 1\n",
    "    while move_count < n*n:\n",
    "        next_moves = Warnsdorff_rule(n, x, y, board)\n",
    "        if len(next_moves) == 0:\n",
    "            print(\"Solution does not exist\")\n",
    "            return\n",
    "        x, y = next_moves[0]\n",
    "        board[x][y] = move_count\n",
    "        move_count += 1\n",
    "    print_solution(board) \n",
    "\n",
    "x = 1\n",
    "y = 1\n",
    "knight_tour(n, x, y)"
   ]
  },
  {
   "cell_type": "markdown",
   "id": "423dc446",
   "metadata": {},
   "source": [
    "# Вариант 3. Ленивый алгоритм"
   ]
  },
  {
   "cell_type": "code",
   "execution_count": 4,
   "id": "c96b4b40",
   "metadata": {},
   "outputs": [
    {
     "name": "stdout",
     "output_type": "stream",
     "text": [
      "58 45 42 25  4 47 40 23\n",
      "43 14 57 46 41 24  5 48\n",
      "56 59 44  7 26  3 22 39\n",
      "15 28 13 10 35  6 49  2\n",
      "60 55 36 27  8 11 38 21\n",
      "29 16  9 12 37 34  1 50\n",
      "54 61 18 31 52 63 20 33\n",
      "17 30 53 62 19 32 51  0\n"
     ]
    }
   ],
   "source": [
    "s =\"Алеет Осень Ценными Дарами, \\\n",
    "Ещё Один Животворящий День. \\\n",
    "Хлеба Червонят Желтыми Шнурами, \\\n",
    "Хрустальных Вод Философична Сень. \\\n",
    "Два Вечера Цеплявшиеся Шишки \\\n",
    "Артист Писал, Бездонна Синева. \\\n",
    "Дорожный Шлак Целуют Червячишки, \\\n",
    "Ещё Покрыта Флоксами Трава. \\\n",
    "Дымится Чай Эффектней Шоколада, \\\n",
    "Фарфоры Чашек Достаются Трем, \\\n",
    "Блондинке Девушка Дана Отрада \\\n",
    "Форшмак Делить Холодным Острием. \\\n",
    "Жена, Толкая Хилую Подругу, \\\n",
    "Желает Сняться Этим Выходным, \\\n",
    "Ценя Сама Арктическую Вьюгу, \\\n",
    "Бросает Шар Арбуза Четверым. \\\n",
    "Цикад Пяток, Едва Чревовещая, \\\n",
    "Дарует Дрему Фикусам Окна. \\\n",
    "Хотя Довольны Жаждавшие Чая, \\\n",
    "Хозяин Шумно Жертвует Вина. \\\n",
    "Фокстротами Шесть Девушек Пленились, \\\n",
    "Эстрадных Танцев Фантастичней Па, \\\n",
    "Едва Ступающий Цыпленок Вылез, \\\n",
    "А Селезень Блуждающий Пропал. \\\n",
    "Алеет Тело Бронзовой Осины, \\\n",
    "Царит Теней Ажурная Длина. \\\n",
    "Беззвучней, Чем Автомобиля Шины, \\\n",
    "Болоту Ветер Дарит Семена. \\\n",
    "Фонарь Восьмью Химерами Сияет, \\\n",
    "Жук Прилетает, Хлопая, Туда. \\\n",
    "Желанна Осень, Если Довершает \\\n",
    "Ценнейший Отдых Бодрого Труда. \\\n",
    "\"\n",
    "num = {\n",
    "    'О' : 0,\n",
    "    'Д' : 1,\n",
    "    'Т' : 2,\n",
    "    'Ч' : 3,\n",
    "    'П' : 4,\n",
    "    'Ш' : 5,\n",
    "    'С' : 6,\n",
    "    'В' : 7\n",
    "         }\n",
    "\n",
    "let = {\n",
    "    'А' : 0,\n",
    "    'Б' : 1,\n",
    "    'Ц' : 2,\n",
    "    'Д' : 3,\n",
    "    'Е' : 4,\n",
    "    'Э' : 4,\n",
    "    'Ф' : 5,\n",
    "    'Ж' : 6,\n",
    "    'Х' : 7\n",
    "         }\n",
    "\n",
    "k = \"\".join(word[0].upper() for word in s.split())\n",
    "poem = [(let[k[i]], num[k[i+1]]) for i in range(0,len(k)-1,2)]\n",
    "\n",
    "\n",
    "\n",
    "def knight_tour(x, y):\n",
    "    board = [[-1 for _ in range(n)] for _ in range(n)] # инициализация шахматной доски\n",
    "    # все элементы инициализируются значением -1. это значит, что клетка не была посещена\n",
    "    board[x][y] = 0\n",
    "    counter = 1\n",
    "    l = poem.index((x, y))\n",
    "    for i in range (l+1, l + len(poem)):\n",
    "        x, y = poem[i%64]\n",
    "        board[x][y] = counter\n",
    "        counter+=1\n",
    "    print_solution(board)\n",
    "        \n",
    "knight_tour(7, 7)"
   ]
  }
 ],
 "metadata": {
  "kernelspec": {
   "display_name": "Python 3 (ipykernel)",
   "language": "python",
   "name": "python3"
  },
  "language_info": {
   "codemirror_mode": {
    "name": "ipython",
    "version": 3
   },
   "file_extension": ".py",
   "mimetype": "text/x-python",
   "name": "python",
   "nbconvert_exporter": "python",
   "pygments_lexer": "ipython3",
   "version": "3.9.13"
  }
 },
 "nbformat": 4,
 "nbformat_minor": 5
}
